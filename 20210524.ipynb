{
  "nbformat": 4,
  "nbformat_minor": 0,
  "metadata": {
    "colab": {
      "name": "20210524.ipynb",
      "provenance": [],
      "collapsed_sections": [],
      "authorship_tag": "ABX9TyMX3F3sHABqorAmjfaX8ZeS",
      "include_colab_link": true
    },
    "kernelspec": {
      "name": "python3",
      "display_name": "Python 3"
    },
    "language_info": {
      "name": "python"
    }
  },
  "cells": [
    {
      "cell_type": "markdown",
      "metadata": {
        "id": "view-in-github",
        "colab_type": "text"
      },
      "source": [
        "<a href=\"https://colab.research.google.com/github/davidyuibm/Macbook/blob/master/20210524.ipynb\" target=\"_parent\"><img src=\"https://colab.research.google.com/assets/colab-badge.svg\" alt=\"Open In Colab\"/></a>"
      ]
    },
    {
      "cell_type": "code",
      "metadata": {
        "colab": {
          "base_uri": "https://localhost:8080/"
        },
        "id": "0G0HLuzzbMpw",
        "outputId": "d7442b5d-893a-4367-d022-29a90b128a87"
      },
      "source": [
        "%run BigDigits.py"
      ],
      "execution_count": 31,
      "outputs": [
        {
          "output_type": "stream",
          "text": [
            "Please input a number !!! 29850\n",
            "  2222  9999  8888  5555   0    \n",
            "     2  9  9  8  8  5     0  0  \n",
            "     2  9  9  8  8  5     0  0  \n",
            "  2222  9999  8888  5555  0  0  \n",
            "  2        9  8  8     5  0  0  \n",
            "  2        9  8  8     5  0  0  \n",
            "  2222  9999  8888  5555   00   \n"
          ],
          "name": "stdout"
        }
      ]
    }
  ]
}