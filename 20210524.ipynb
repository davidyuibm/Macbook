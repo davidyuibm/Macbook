{
  "nbformat": 4,
  "nbformat_minor": 0,
  "metadata": {
    "colab": {
      "name": "Copy of Untitled1.ipynb",
      "provenance": [],
      "collapsed_sections": [],
      "authorship_tag": "ABX9TyPZVNq9KHpyzjrDZndM3YX4",
      "include_colab_link": true
    },
    "kernelspec": {
      "name": "python3",
      "display_name": "Python 3"
    },
    "language_info": {
      "name": "python"
    }
  },
  "cells": [
    {
      "cell_type": "markdown",
      "metadata": {
        "id": "view-in-github",
        "colab_type": "text"
      },
      "source": [
        "<a href=\"https://colab.research.google.com/github/davidyuibm/Macbook/blob/master/20210524.ipynb\" target=\"_parent\"><img src=\"https://colab.research.google.com/assets/colab-badge.svg\" alt=\"Open In Colab\"/></a>"
      ]
    },
    {
      "cell_type": "code",
      "metadata": {
        "id": "R5jcbGgU0j8v",
        "colab": {
          "base_uri": "https://localhost:8080/"
        },
        "outputId": "98a4edb5-319d-4079-8548-daf93056e49a"
      },
      "source": [
        "Zero = [\" *  \", \"*  *\", \"*  *\",\"*  *\",\"*  *\",\"*  *\", \" ** \"]\n",
        "One = [\"   *\", \"  **\", \" * *\", \"   *\", \"   *\", \"   *\", \"   *\"]\n",
        "Two = [\"****\", \"   *\", \"   *\", \"****\", \"*   \",\"*   \",\"****\"]\n",
        "Three = [\"****\", \"   *\", \"   *\", \"****\", \"   *\",\"   *\",\"****\"]\n",
        "Four = [\"*  *\", \"*  *\", \"*  *\",\"****\",\"   *\",\"   *\",\"   *\"]\n",
        "Five = [\"****\", \"*   \", \"*   \",\"****\",\"   *\",\"   *\",\"****\"]\n",
        "Six = [\"****\", \"*   \", \"*   \",\"****\",\"*  *\",\"*  *\",\"****\"]\n",
        "Seven = [\"****\", \"*  *\", \"*  *\",\"*  *\",\"   *\",\"   *\",\"   *\"]\n",
        "Eight = [\"****\", \"*  *\", \"*  *\",\"****\",\"*  *\",\"*  *\",\"****\"]\n",
        "Nine = [\"****\", \"*  *\", \"*  *\",\"****\",\"   *\",\"   *\",\"****\"]\n",
        "\n",
        "Numbers = [Zero, One, Two, Three, Four, Five, Six, Seven, Eight, Nine]\n",
        "\n",
        "inputnum = input(\"Please input a number !!! \")\n",
        "row =0\n",
        "\n",
        "while row < 7: \n",
        "     i=0 \n",
        "     line = \"  \" \n",
        "     while i < len(inputnum):   \n",
        "        digitnum = Numbers[int(inputnum[i])]\n",
        "        for j in digitnum[row]:\n",
        "               if j == \"*\":\n",
        "                            j=inputnum[i]\n",
        "               line += j\n",
        "        line +=\"  \"\n",
        "        i +=1\n",
        "     print(line)     \n",
        "     row +=1"
      ],
      "execution_count": 29,
      "outputs": [
        {
          "output_type": "stream",
          "text": [
            "Please input a number !!! 0123456789\n",
            "   0       1  2222  3333  4  4  5555  6666  7777  8888  9999  \n",
            "  0  0    11     2     3  4  4  5     6     7  7  8  8  9  9  \n",
            "  0  0   1 1     2     3  4  4  5     6     7  7  8  8  9  9  \n",
            "  0  0     1  2222  3333  4444  5555  6666  7  7  8888  9999  \n",
            "  0  0     1  2        3     4     5  6  6     7  8  8     9  \n",
            "  0  0     1  2        3     4     5  6  6     7  8  8     9  \n",
            "   00      1  2222  3333     4  5555  6666     7  8888  9999  \n"
          ],
          "name": "stdout"
        }
      ]
    },
    {
      "cell_type": "code",
      "metadata": {
        "id": "wQK_ZbVCALB8"
      },
      "source": [
        ""
      ],
      "execution_count": null,
      "outputs": []
    },
    {
      "cell_type": "markdown",
      "metadata": {
        "id": "4dlVzZVdALg1"
      },
      "source": [
        "Zero = [\" *  \", \"*  *\", \"*  *\",\"*  *\",\"*  *\",\"*  *\", \" ** \"]\n",
        "One = [\"   *\", \"  **\", \" * *\", \"   *\", \"   *\", \"   *\", \"   *\"]\n",
        "Two = [\"****\", \"   *\", \"   *\", \"****\", \"*   \",\"*   \",\"****\"]\n",
        "Three = [\"****\", \"   *\", \"   *\", \"****\", \"   *\",\"   *\",\"****\"]\n",
        "Four = [\"*  *\", \"*  *\", \"*  *\",\"****\",\"   *\",\"   *\",\"   *\"]\n",
        "Five = [\"****\", \"*   \", \"*   \",\"****\",\"   *\",\"   *\",\"****\"]\n",
        "Six = [\"****\", \"*   \", \"*   \",\"****\",\"*  *\",\"*  *\",\"****\"]\n",
        "Seven = [\"****\", \"*  *\", \"*  *\",\"*  *\",\"   *\",\"   *\",\"   *\"]\n",
        "Eight = [\"****\", \"*  *\", \"*  *\",\"****\",\"*  *\",\"*  *\",\"****\"]\n",
        "Nine = [\"****\", \"*  *\", \"*  *\",\"****\",\"   *\",\"   *\",\"****\"]\n",
        "\n",
        "Numbers = [Zero, One, Two, Three, Four, Five, Six, Seven, Eight, Nine]\n",
        "\n",
        "inputnum = input(\"Please input a number !!! \")\n",
        "row =0\n",
        "i = 0 \n",
        "while row < 7:   \n",
        "     while i <= len(inputnum):\n",
        "        line =\"    \"\n",
        "        for inputdigit in str(inputnum):  \n",
        "                digitnum = Numbers[int(inputdigit)]\n",
        "                for j in digitnum[row]:\n",
        "                        if j == \"*\":\n",
        "                            j=inputdigit\n",
        "                line += j\n",
        "        print(line)      \n",
        "        i +=1\n",
        "        row +=1\n",
        "    "
      ]
    },
    {
      "cell_type": "code",
      "metadata": {
        "colab": {
          "base_uri": "https://localhost:8080/"
        },
        "id": "1qOms5V-0mhQ",
        "outputId": "8d8883ad-8415-4e55-f6b4-1b8b15fea473"
      },
      "source": [
        "len(my_information)"
      ],
      "execution_count": null,
      "outputs": [
        {
          "output_type": "execute_result",
          "data": {
            "text/plain": [
              "3"
            ]
          },
          "metadata": {
            "tags": []
          },
          "execution_count": 3
        }
      ]
    },
    {
      "cell_type": "code",
      "metadata": {
        "colab": {
          "base_uri": "https://localhost:8080/",
          "height": 35
        },
        "id": "7c2W-c-nTGYk",
        "outputId": "0fd41aec-ef91-4929-b955-b21dd405a8ad"
      },
      "source": [
        "pet"
      ],
      "execution_count": null,
      "outputs": [
        {
          "output_type": "execute_result",
          "data": {
            "application/vnd.google.colaboratory.intrinsic+json": {
              "type": "string"
            },
            "text/plain": [
              "'hello'"
            ]
          },
          "metadata": {
            "tags": []
          },
          "execution_count": 7
        }
      ]
    },
    {
      "cell_type": "markdown",
      "metadata": {
        "id": "F58jb9g0WzvU"
      },
      "source": [
        ""
      ]
    },
    {
      "cell_type": "code",
      "metadata": {
        "colab": {
          "base_uri": "https://localhost:8080/"
        },
        "id": "zrx9RCqVW0Yp",
        "outputId": "98a4edb5-319d-4079-8548-daf93056e49a"
      },
      "source": [
        "Zero = [\" *  \", \"*  *\", \"*  *\",\"*  *\",\"*  *\",\"*  *\", \" ** \"]\n",
        "One = [\"   *\", \"  **\", \" * *\", \"   *\", \"   *\", \"   *\", \"   *\"]\n",
        "Two = [\"****\", \"   *\", \"   *\", \"****\", \"*   \",\"*   \",\"****\"]\n",
        "Three = [\"****\", \"   *\", \"   *\", \"****\", \"   *\",\"   *\",\"****\"]\n",
        "Four = [\"*  *\", \"*  *\", \"*  *\",\"****\",\"   *\",\"   *\",\"   *\"]\n",
        "Five = [\"****\", \"*   \", \"*   \",\"****\",\"   *\",\"   *\",\"****\"]\n",
        "Six = [\"****\", \"*   \", \"*   \",\"****\",\"*  *\",\"*  *\",\"****\"]\n",
        "Seven = [\"****\", \"*  *\", \"*  *\",\"*  *\",\"   *\",\"   *\",\"   *\"]\n",
        "Eight = [\"****\", \"*  *\", \"*  *\",\"****\",\"*  *\",\"*  *\",\"****\"]\n",
        "Nine = [\"****\", \"*  *\", \"*  *\",\"****\",\"   *\",\"   *\",\"****\"]\n",
        "\n",
        "Numbers = [Zero, One, Two, Three, Four, Five, Six, Seven, Eight, Nine]\n",
        "\n",
        "inputnum = input(\"Please input a number !!! \")\n",
        "row =0\n",
        "\n",
        "while row < 7: \n",
        "     i=0 \n",
        "     line = \"  \" \n",
        "     while i < len(inputnum):   \n",
        "        digitnum = Numbers[int(inputnum[i])]\n",
        "        for j in digitnum[row]:\n",
        "               if j == \"*\":\n",
        "                            j=inputnum[i]\n",
        "               line += j\n",
        "        line +=\"  \"\n",
        "        i +=1\n",
        "     print(line)     \n",
        "     row +=1"
      ],
      "execution_count": null,
      "outputs": [
        {
          "output_type": "stream",
          "text": [
            "Please input a number !!! 0123456789\n",
            "   0       1  2222  3333  4  4  5555  6666  7777  8888  9999  \n",
            "  0  0    11     2     3  4  4  5     6     7  7  8  8  9  9  \n",
            "  0  0   1 1     2     3  4  4  5     6     7  7  8  8  9  9  \n",
            "  0  0     1  2222  3333  4444  5555  6666  7  7  8888  9999  \n",
            "  0  0     1  2        3     4     5  6  6     7  8  8     9  \n",
            "  0  0     1  2        3     4     5  6  6     7  8  8     9  \n",
            "   00      1  2222  3333     4  5555  6666     7  8888  9999  \n"
          ],
          "name": "stdout"
        }
      ]
    }
  ]
}